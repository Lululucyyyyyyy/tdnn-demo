{
 "cells": [
  {
   "cell_type": "code",
   "execution_count": 154,
   "id": "853671fc",
   "metadata": {},
   "outputs": [],
   "source": [
    "from pytorch_tdnn.tdnn import TDNN as TDNNLayer\n",
    "import torch\n",
    "import torch.nn as nn\n",
    "import torch.optim as optim\n",
    "import torch.nn.functional as F\n",
    "from torch.autograd import Variable\n",
    "import math, random\n",
    "\n",
    "class TDNNv1(torch.nn.Module):\n",
    "\n",
    "    def __init__(self):\n",
    "        super(TDNNv1, self).__init__()\n",
    "\n",
    "        self.tdnn1 = TDNNLayer(16, 8, [-1,0,1])\n",
    "        self.tdnn2 = TDNNLayer(8, 3, [-2,0,2])\n",
    "        self.flatten = nn.Flatten()\n",
    "#         self.conv = torch.nn.Conv1d(n, n, 9, stride=9) # linear layer\n",
    "        self.linear = nn.Linear(27, 3)\n",
    "        self.sigmoid = nn.Sigmoid()\n",
    "\n",
    "    def forward(self, x):\n",
    "#         print('input dim:', x.shape)\n",
    "        x = self.tdnn1(x)\n",
    "#         print('tdnn1 dim:', x.shape)\n",
    "        x = self.tdnn2(x)\n",
    "#         print('tdnn2 dim:', x.shape)\n",
    "        x = self.flatten(x)\n",
    "#         print('flatten dim:', x.shape)\n",
    "        x = self.linear(x)\n",
    "#         print('conv dim:', x.shape)\n",
    "#         x = self.sigmoid(x)\n",
    "#         print('sigmoid dim:', x.shape)\n",
    "#         x = torch.argmax(x, dim=1)\n",
    "#         print('argmax dim:', x.shape)\n",
    "        return x"
   ]
  },
  {
   "cell_type": "code",
   "execution_count": 155,
   "id": "b4b3e6da",
   "metadata": {},
   "outputs": [],
   "source": [
    "# note: changes /usr/local/lib/python3.10/site-packages/pytorch_tdnn\n",
    "# line 41: padding = 0"
   ]
  },
  {
   "cell_type": "code",
   "execution_count": 156,
   "id": "47489266",
   "metadata": {},
   "outputs": [],
   "source": [
    "# # testing on random numbers\n",
    "# import random\n",
    "# import numpy as np\n",
    "# input1 = []\n",
    "# for i in range(50):\n",
    "#     curr = []\n",
    "#     for j in range(16):\n",
    "#         currow = []\n",
    "#         for j in range(15):\n",
    "#             currow.append(random.uniform(0, 1))\n",
    "#         curr.append(currow)\n",
    "#     input1.append(curr)\n",
    "# # input1 = np.array(input1)\n",
    "# # input1 = np.zeros((16, 16, 16))\n",
    "# input1 = torch.Tensor(input1)\n",
    "# tdnn = TDNNv1()\n",
    "# print(tdnn(input1))"
   ]
  },
  {
   "cell_type": "code",
   "execution_count": 157,
   "id": "2b9f074d",
   "metadata": {},
   "outputs": [
    {
     "name": "stdout",
     "output_type": "stream",
     "text": [
      "torch.Size([54, 16, 15])\n",
      "tensor([0, 0, 0, 0, 0, 0, 0, 0, 0, 0, 0, 0, 0, 0, 0, 0, 0, 0, 1, 1, 1, 1, 1, 1,\n",
      "        1, 1, 1, 1, 1, 1, 1, 1, 1, 1, 1, 1, 2, 2, 2, 2, 2, 2, 2, 2, 2, 2, 2, 2,\n",
      "        2, 2, 2, 2, 2, 2])\n"
     ]
    }
   ],
   "source": [
    "# load dataset\n",
    "import os, re\n",
    "\n",
    "x = [] #data\n",
    "y = [] #labels, where 0 = b, 1 = d, 2 = g\n",
    "\n",
    "def load_file(f, label, letter):\n",
    "    fs = f.split(\"-\") # split file name to get starting frame\n",
    "    start = int(fs[1].split('.')[0])//10\n",
    "    with open(\"test2/spectrograms/\"+letter+\"/\"+f, 'r') as g:\n",
    "        mel_spectrogram = [[float(num) for num in line.split(',')][start:start + 15] for line in g]\n",
    "        x.append(mel_spectrogram)\n",
    "    g.close()\n",
    "    y.append(label)\n",
    "    \n",
    "    \n",
    "for f in sorted(os.listdir(\"test2/spectrograms/b\")):\n",
    "    load_file(f, 0, \"b\")\n",
    "    \n",
    "for f in sorted(os.listdir(\"test2/spectrograms/d\")):\n",
    "    load_file(f, 1, \"d\")\n",
    "    \n",
    "for f in sorted(os.listdir(\"test2/spectrograms/g\")):\n",
    "    load_file(f, 2, \"g\")\n",
    "    \n",
    "# shuffler\n",
    "# temp = list(zip(x, y))\n",
    "# random.shuffle(temp)\n",
    "# x, y = zip(*temp)\n",
    "\n",
    "# torch dataset, shuffle option\n",
    "\n",
    "x = torch.Tensor(x)\n",
    "y = torch.tensor(y, dtype=torch.long)\n",
    "\n",
    "### DEBUGGING HACKS\n",
    "# y[5] = 2\n",
    "x[4:9,:,:] += 0.005;\n",
    "\n",
    "print(x.shape)\n",
    "print(y)"
   ]
  },
  {
   "cell_type": "code",
   "execution_count": 158,
   "id": "5e6786b0",
   "metadata": {},
   "outputs": [],
   "source": [
    "# b: ball, bane, bee, bird, bow, bread\n",
    "# d: dance, date, dive, dog, door, duck\n",
    "# g: game, gap, gift, go, grow, guide"
   ]
  },
  {
   "cell_type": "code",
   "execution_count": null,
   "id": "02d91c6f",
   "metadata": {},
   "outputs": [],
   "source": []
  },
  {
   "cell_type": "code",
   "execution_count": null,
   "id": "f746264e",
   "metadata": {},
   "outputs": [],
   "source": []
  },
  {
   "cell_type": "code",
   "execution_count": 164,
   "id": "d89aca3f",
   "metadata": {},
   "outputs": [
    {
     "name": "stdout",
     "output_type": "stream",
     "text": [
      "1 loss: 0.02036823387499209\n",
      "6 loss: 0.020368194138562237\n",
      "Finished Training\n"
     ]
    }
   ],
   "source": [
    "tdnn = TDNNv1()\n",
    "import torch.optim as optim\n",
    "\n",
    "criterion = nn.CrossEntropyLoss()\n",
    "optimizer = optim.SGD(tdnn.parameters(), lr=0.0001, momentum=0.2)\n",
    "\n",
    "for epoch in range(10):  # loop over the dataset multiple times\n",
    "\n",
    "    running_loss = 0.0\n",
    "#     for i, data in enumerate(trainloader, 0):\n",
    "        # get the inputs; data is a list of [inputs, labels]\n",
    "    inputs, labels = x*100, y # better var names pls\n",
    "\n",
    "    # zero the parameter gradients\n",
    "    optimizer.zero_grad()\n",
    "\n",
    "    # forward + backward + optimize\n",
    "    outputs = tdnn(inputs)\n",
    "    loss = criterion(outputs, labels)\n",
    "    loss.backward()\n",
    "    optimizer.step()\n",
    "\n",
    "    # print statistics\n",
    "    running_loss += loss.item()\n",
    "#     if epoch % 5 == 0:  \n",
    "    print(f'{epoch + 1} loss: {loss.item()/len(y)}')\n",
    "    running_loss = 0.0\n",
    "\n",
    "print('Finished Training')"
   ]
  },
  {
   "cell_type": "code",
   "execution_count": 162,
   "id": "428e3849",
   "metadata": {},
   "outputs": [
    {
     "name": "stdout",
     "output_type": "stream",
     "text": [
      "tensor([[ 0.1987, -0.1660, -0.1943],\n",
      "        [ 0.1996, -0.1664, -0.1948],\n",
      "        [ 0.1988, -0.1660, -0.1942],\n",
      "        [ 0.1978, -0.1660, -0.1940],\n",
      "        [ 0.2995, -0.1994, -0.2220],\n",
      "        [ 0.2928, -0.2002, -0.2235],\n",
      "        [ 0.2973, -0.1997, -0.2230],\n",
      "        [ 0.2980, -0.1997, -0.2229],\n",
      "        [ 0.2975, -0.1997, -0.2231],\n",
      "        [ 0.1993, -0.1660, -0.1943],\n",
      "        [ 0.1988, -0.1660, -0.1942],\n",
      "        [ 0.1991, -0.1659, -0.1939],\n",
      "        [ 0.1932, -0.1672, -0.1940],\n",
      "        [ 0.1998, -0.1661, -0.1938],\n",
      "        [ 0.1939, -0.1669, -0.1946],\n",
      "        [ 0.1989, -0.1661, -0.1940],\n",
      "        [ 0.1992, -0.1660, -0.1939],\n",
      "        [ 0.1984, -0.1660, -0.1941],\n",
      "        [ 0.1990, -0.1663, -0.1943],\n",
      "        [ 0.1988, -0.1660, -0.1943],\n",
      "        [ 0.1989, -0.1662, -0.1942],\n",
      "        [ 0.1991, -0.1660, -0.1944],\n",
      "        [ 0.1990, -0.1659, -0.1942],\n",
      "        [ 0.1988, -0.1660, -0.1942],\n",
      "        [ 0.1992, -0.1664, -0.1942],\n",
      "        [ 0.1990, -0.1662, -0.1943],\n",
      "        [ 0.1990, -0.1661, -0.1943],\n",
      "        [ 0.1988, -0.1660, -0.1943],\n",
      "        [ 0.1990, -0.1661, -0.1943],\n",
      "        [ 0.1988, -0.1660, -0.1943],\n",
      "        [ 0.1988, -0.1660, -0.1942],\n",
      "        [ 0.1987, -0.1659, -0.1942],\n",
      "        [ 0.1987, -0.1660, -0.1942],\n",
      "        [ 0.1987, -0.1659, -0.1942],\n",
      "        [ 0.1988, -0.1660, -0.1942],\n",
      "        [ 0.1988, -0.1660, -0.1943],\n",
      "        [ 0.1985, -0.1661, -0.1940],\n",
      "        [ 0.1986, -0.1660, -0.1942],\n",
      "        [ 0.1985, -0.1660, -0.1941],\n",
      "        [ 0.1987, -0.1659, -0.1942],\n",
      "        [ 0.1987, -0.1660, -0.1943],\n",
      "        [ 0.1987, -0.1660, -0.1942],\n",
      "        [ 0.1986, -0.1659, -0.1940],\n",
      "        [ 0.1988, -0.1659, -0.1941],\n",
      "        [ 0.1988, -0.1660, -0.1942],\n",
      "        [ 0.1986, -0.1659, -0.1941],\n",
      "        [ 0.1992, -0.1662, -0.1943],\n",
      "        [ 0.1991, -0.1662, -0.1943],\n",
      "        [ 0.1991, -0.1660, -0.1943],\n",
      "        [ 0.1992, -0.1660, -0.1944],\n",
      "        [ 0.1994, -0.1660, -0.1943],\n",
      "        [ 0.1987, -0.1659, -0.1941],\n",
      "        [ 0.1988, -0.1660, -0.1942],\n",
      "        [ 0.1988, -0.1660, -0.1942]], grad_fn=<AddmmBackward0>)\n"
     ]
    }
   ],
   "source": [
    "print(outputs)\n",
    "# for i, output in enumerate(outputs):\n",
    "#     print(output, y[i])"
   ]
  },
  {
   "cell_type": "code",
   "execution_count": 144,
   "id": "60d5ceb8",
   "metadata": {},
   "outputs": [
    {
     "data": {
      "text/plain": [
       "tensor([0, 0, 0, 0, 0, 0, 0, 0, 0, 0, 0, 0, 0, 0, 0, 0, 0, 0, 1, 1, 1, 1, 1, 1,\n",
       "        1, 1, 1, 1, 1, 1, 1, 1, 1, 1, 1, 1, 2, 2, 2, 2, 2, 2, 2, 2, 2, 2, 2, 2,\n",
       "        2, 2, 2, 2, 2, 2])"
      ]
     },
     "execution_count": 144,
     "metadata": {},
     "output_type": "execute_result"
    }
   ],
   "source": [
    "labels"
   ]
  },
  {
   "cell_type": "code",
   "execution_count": null,
   "id": "28071e0a",
   "metadata": {},
   "outputs": [],
   "source": []
  },
  {
   "cell_type": "code",
   "execution_count": null,
   "id": "c695e93c",
   "metadata": {},
   "outputs": [],
   "source": []
  },
  {
   "cell_type": "code",
   "execution_count": null,
   "id": "9ad2ab07",
   "metadata": {},
   "outputs": [],
   "source": []
  },
  {
   "cell_type": "code",
   "execution_count": null,
   "id": "73728965",
   "metadata": {},
   "outputs": [],
   "source": []
  },
  {
   "cell_type": "code",
   "execution_count": null,
   "id": "29e9d177",
   "metadata": {},
   "outputs": [],
   "source": []
  },
  {
   "cell_type": "code",
   "execution_count": null,
   "id": "b47304cf",
   "metadata": {},
   "outputs": [],
   "source": []
  },
  {
   "cell_type": "code",
   "execution_count": null,
   "id": "3cfa5ec0",
   "metadata": {},
   "outputs": [],
   "source": []
  },
  {
   "cell_type": "code",
   "execution_count": null,
   "id": "c85bc5f7",
   "metadata": {},
   "outputs": [],
   "source": []
  },
  {
   "cell_type": "code",
   "execution_count": null,
   "id": "a12adc92",
   "metadata": {},
   "outputs": [],
   "source": []
  },
  {
   "cell_type": "code",
   "execution_count": 208,
   "id": "8a7c23e3",
   "metadata": {},
   "outputs": [],
   "source": [
    "\n"
   ]
  },
  {
   "cell_type": "code",
   "execution_count": null,
   "id": "0950ac1b",
   "metadata": {},
   "outputs": [],
   "source": []
  }
 ],
 "metadata": {
  "kernelspec": {
   "display_name": "Python 3",
   "language": "python",
   "name": "python3"
  },
  "language_info": {
   "codemirror_mode": {
    "name": "ipython",
    "version": 3
   },
   "file_extension": ".py",
   "mimetype": "text/x-python",
   "name": "python",
   "nbconvert_exporter": "python",
   "pygments_lexer": "ipython3",
   "version": "3.10.7"
  }
 },
 "nbformat": 4,
 "nbformat_minor": 5
}
