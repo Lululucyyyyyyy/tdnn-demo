{
 "cells": [
  {
   "cell_type": "code",
   "execution_count": 193,
   "id": "853671fc",
   "metadata": {},
   "outputs": [],
   "source": [
    "from pytorch_tdnn.tdnn import TDNN as TDNNLayer\n",
    "import torch\n",
    "import torch.nn as nn\n",
    "import torch.optim as optim\n",
    "import torch.nn.functional as F\n",
    "from torch.autograd import Variable\n",
    "import math, random\n",
    "\n",
    "class TDNNv1(torch.nn.Module):\n",
    "\n",
    "    def __init__(self):\n",
    "        super(TDNNv1, self).__init__()\n",
    "\n",
    "        self.tdnn1 = TDNNLayer(16, 8, [-1,0,1])\n",
    "        self.tdnn2 = TDNNLayer(8, 3, [-2,0,2])\n",
    "        self.flatten = nn.Flatten()\n",
    "#         self.conv = torch.nn.Conv1d(n, n, 9, stride=9) # linear layer\n",
    "        self.linear = nn.Linear(27, 3)\n",
    "        self.network = nn.Sequential(\n",
    "            self.tdnn1,\n",
    "            self.tdnn2,\n",
    "            self.flatten,\n",
    "            self.linear,\n",
    "        )\n",
    "\n",
    "    def forward(self, x):\n",
    "        out = self.network(x)\n",
    "        return out"
   ]
  },
  {
   "cell_type": "code",
   "execution_count": 194,
   "id": "b4b3e6da",
   "metadata": {},
   "outputs": [],
   "source": [
    "# note: changes /usr/local/lib/python3.10/site-packages/pytorch_tdnn\n",
    "# line 41: padding = 0"
   ]
  },
  {
   "cell_type": "code",
   "execution_count": 195,
   "id": "47489266",
   "metadata": {},
   "outputs": [],
   "source": [
    "# # testing on random numbers\n",
    "# import random\n",
    "# import numpy as np\n",
    "# input1 = []\n",
    "# for i in range(50):\n",
    "#     curr = []\n",
    "#     for j in range(16):\n",
    "#         currow = []\n",
    "#         for j in range(15):\n",
    "#             currow.append(random.uniform(0, 1))\n",
    "#         curr.append(currow)\n",
    "#     input1.append(curr)\n",
    "# # input1 = np.array(input1)\n",
    "# # input1 = np.zeros((16, 16, 16))\n",
    "# input1 = torch.Tensor(input1)\n",
    "# tdnn = TDNNv1()\n",
    "# print(tdnn(input1))"
   ]
  },
  {
   "cell_type": "code",
   "execution_count": 196,
   "id": "2b9f074d",
   "metadata": {},
   "outputs": [
    {
     "name": "stdout",
     "output_type": "stream",
     "text": [
      "torch.Size([54, 16, 15])\n",
      "tensor([0, 0, 0, 0, 0, 0, 0, 0, 0, 0, 0, 0, 0, 0, 0, 0, 0, 0, 1, 1, 1, 1, 1, 1,\n",
      "        1, 1, 1, 1, 1, 1, 1, 1, 1, 1, 1, 1, 2, 2, 2, 2, 2, 2, 2, 2, 2, 2, 2, 2,\n",
      "        2, 2, 2, 2, 2, 2])\n"
     ]
    }
   ],
   "source": [
    "# load dataset\n",
    "import os, re\n",
    "\n",
    "x = [] #data\n",
    "y = [] #labels, where 0 = b, 1 = d, 2 = g\n",
    "\n",
    "def load_file(f, label, letter):\n",
    "    fs = f.split(\"-\") # split file name to get starting frame\n",
    "    start = int(fs[1].split('.')[0])//10\n",
    "    with open(\"test2/spectrograms/\"+letter+\"/\"+f, 'r') as g:\n",
    "        mel_spectrogram = [[float(num) for num in line.split(',')][start:start + 15] for line in g]\n",
    "        x.append(mel_spectrogram)\n",
    "    g.close()\n",
    "    y.append(label)\n",
    "    \n",
    "    \n",
    "for f in sorted(os.listdir(\"test2/spectrograms/b\")):\n",
    "    load_file(f, 0, \"b\")\n",
    "    \n",
    "for f in sorted(os.listdir(\"test2/spectrograms/d\")):\n",
    "    load_file(f, 1, \"d\")\n",
    "    \n",
    "for f in sorted(os.listdir(\"test2/spectrograms/g\")):\n",
    "    load_file(f, 2, \"g\")\n",
    "    \n",
    "# shuffler\n",
    "# temp = list(zip(x, y))\n",
    "# random.shuffle(temp)\n",
    "# x, y = zip(*temp)\n",
    "\n",
    "# torch dataset, shuffle option\n",
    "\n",
    "x = torch.Tensor(x)\n",
    "y = torch.tensor(y, dtype=torch.long)\n",
    "\n",
    "### DEBUGGING HACKS\n",
    "# y[5] = 2\n",
    "x[4:9,:,:] += 0.005;\n",
    "\n",
    "print(x.shape)\n",
    "print(y)"
   ]
  },
  {
   "cell_type": "code",
   "execution_count": 197,
   "id": "5e6786b0",
   "metadata": {},
   "outputs": [],
   "source": [
    "# b: ball, bane, bee, bird, bow, bread\n",
    "# d: dance, date, dive, dog, door, duck\n",
    "# g: game, gap, gift, go, grow, guide"
   ]
  },
  {
   "cell_type": "code",
   "execution_count": null,
   "id": "02d91c6f",
   "metadata": {},
   "outputs": [],
   "source": []
  },
  {
   "cell_type": "code",
   "execution_count": null,
   "id": "f746264e",
   "metadata": {},
   "outputs": [],
   "source": []
  },
  {
   "cell_type": "code",
   "execution_count": 200,
   "id": "d89aca3f",
   "metadata": {},
   "outputs": [
    {
     "name": "stdout",
     "output_type": "stream",
     "text": [
      "1 loss: 0.020466588161609792\n",
      "2 loss: 0.020463479889763728\n",
      "3 loss: 0.020459777779049344\n",
      "4 loss: 0.020455993987895823\n",
      "5 loss: 0.020452227857377794\n",
      "6 loss: 0.020448497048130742\n",
      "7 loss: 0.020444801560154668\n",
      "8 loss: 0.020441143601029006\n",
      "9 loss: 0.020437525378333196\n",
      "10 loss: 0.020433942476908367\n",
      "Finished Training\n"
     ]
    }
   ],
   "source": [
    "tdnn = TDNNv1()\n",
    "import torch.optim as optim\n",
    "\n",
    "criterion = nn.CrossEntropyLoss()\n",
    "optimizer = optim.SGD(tdnn.parameters(), lr=0.01, momentum=0.2)\n",
    "\n",
    "for epoch in range(10):  # loop over the dataset multiple times\n",
    "\n",
    "    running_loss = 0.0\n",
    "#     for i, data in enumerate(trainloader, 0):\n",
    "        # get the inputs; data is a list of [inputs, labels]\n",
    "    inputs, labels = x*100, y # better var names pls\n",
    "\n",
    "    # zero the parameter gradients\n",
    "    optimizer.zero_grad()\n",
    "\n",
    "    # forward + backward + optimize\n",
    "    outputs = tdnn(inputs)\n",
    "    loss = criterion(outputs, labels)\n",
    "    loss.backward()\n",
    "    optimizer.step()\n",
    "\n",
    "    # print statistics\n",
    "    running_loss += loss.item()\n",
    "#     if epoch % 5 == 0:  \n",
    "    print(f'{epoch + 1} loss: {loss.item()/len(y)}')\n",
    "    running_loss = 0.0\n",
    "\n",
    "print('Finished Training')"
   ]
  },
  {
   "cell_type": "code",
   "execution_count": 201,
   "id": "428e3849",
   "metadata": {},
   "outputs": [
    {
     "name": "stdout",
     "output_type": "stream",
     "text": [
      "tensor([[ 0.0452, -0.0127, -0.2292],\n",
      "        [ 0.0446, -0.0136, -0.2285],\n",
      "        [ 0.0454, -0.0125, -0.2291],\n",
      "        [ 0.0476, -0.0113, -0.2314],\n",
      "        [ 0.0725, -0.0108, -0.2518],\n",
      "        [ 0.0707, -0.0011, -0.2595],\n",
      "        [ 0.0644, -0.0054, -0.2540],\n",
      "        [ 0.0653, -0.0069, -0.2529],\n",
      "        [ 0.0635, -0.0056, -0.2533],\n",
      "        [ 0.0466, -0.0126, -0.2291],\n",
      "        [ 0.0457, -0.0123, -0.2291],\n",
      "        [ 0.0476, -0.0130, -0.2294],\n",
      "        [ 0.0531, -0.0095, -0.2312],\n",
      "        [ 0.0506, -0.0143, -0.2289],\n",
      "        [ 0.0525, -0.0072, -0.2350],\n",
      "        [ 0.0464, -0.0125, -0.2290],\n",
      "        [ 0.0492, -0.0138, -0.2287],\n",
      "        [ 0.0468, -0.0118, -0.2302],\n",
      "        [ 0.0470, -0.0120, -0.2289],\n",
      "        [ 0.0456, -0.0124, -0.2291],\n",
      "        [ 0.0458, -0.0125, -0.2288],\n",
      "        [ 0.0455, -0.0122, -0.2292],\n",
      "        [ 0.0456, -0.0122, -0.2292],\n",
      "        [ 0.0455, -0.0122, -0.2292],\n",
      "        [ 0.0453, -0.0130, -0.2286],\n",
      "        [ 0.0462, -0.0124, -0.2289],\n",
      "        [ 0.0463, -0.0124, -0.2290],\n",
      "        [ 0.0456, -0.0127, -0.2291],\n",
      "        [ 0.0458, -0.0126, -0.2290],\n",
      "        [ 0.0455, -0.0125, -0.2292],\n",
      "        [ 0.0455, -0.0122, -0.2291],\n",
      "        [ 0.0454, -0.0124, -0.2292],\n",
      "        [ 0.0455, -0.0124, -0.2292],\n",
      "        [ 0.0455, -0.0124, -0.2291],\n",
      "        [ 0.0455, -0.0125, -0.2291],\n",
      "        [ 0.0456, -0.0124, -0.2291],\n",
      "        [ 0.0468, -0.0122, -0.2287],\n",
      "        [ 0.0464, -0.0119, -0.2289],\n",
      "        [ 0.0463, -0.0119, -0.2286],\n",
      "        [ 0.0454, -0.0124, -0.2292],\n",
      "        [ 0.0454, -0.0124, -0.2290],\n",
      "        [ 0.0455, -0.0124, -0.2292],\n",
      "        [ 0.0457, -0.0125, -0.2290],\n",
      "        [ 0.0457, -0.0124, -0.2291],\n",
      "        [ 0.0457, -0.0124, -0.2291],\n",
      "        [ 0.0456, -0.0124, -0.2290],\n",
      "        [ 0.0460, -0.0120, -0.2291],\n",
      "        [ 0.0462, -0.0120, -0.2290],\n",
      "        [ 0.0456, -0.0121, -0.2293],\n",
      "        [ 0.0460, -0.0116, -0.2291],\n",
      "        [ 0.0462, -0.0113, -0.2290],\n",
      "        [ 0.0455, -0.0124, -0.2292],\n",
      "        [ 0.0457, -0.0122, -0.2291],\n",
      "        [ 0.0455, -0.0123, -0.2291]], grad_fn=<AddmmBackward0>)\n"
     ]
    }
   ],
   "source": [
    "print(outputs)\n",
    "# for i, output in enumerate(outputs):\n",
    "#     print(output, y[i])"
   ]
  },
  {
   "cell_type": "code",
   "execution_count": 144,
   "id": "60d5ceb8",
   "metadata": {},
   "outputs": [
    {
     "data": {
      "text/plain": [
       "tensor([0, 0, 0, 0, 0, 0, 0, 0, 0, 0, 0, 0, 0, 0, 0, 0, 0, 0, 1, 1, 1, 1, 1, 1,\n",
       "        1, 1, 1, 1, 1, 1, 1, 1, 1, 1, 1, 1, 2, 2, 2, 2, 2, 2, 2, 2, 2, 2, 2, 2,\n",
       "        2, 2, 2, 2, 2, 2])"
      ]
     },
     "execution_count": 144,
     "metadata": {},
     "output_type": "execute_result"
    }
   ],
   "source": [
    "labels"
   ]
  },
  {
   "cell_type": "code",
   "execution_count": 170,
   "id": "28071e0a",
   "metadata": {},
   "outputs": [],
   "source": [
    "tdnn2 = TDNNv1()"
   ]
  },
  {
   "cell_type": "code",
   "execution_count": 177,
   "id": "c695e93c",
   "metadata": {},
   "outputs": [],
   "source": [
    "a = list(tdnn2.modules())[-1]"
   ]
  },
  {
   "cell_type": "code",
   "execution_count": 180,
   "id": "9ad2ab07",
   "metadata": {},
   "outputs": [
    {
     "data": {
      "text/plain": [
       "[Parameter containing:\n",
       " tensor([[-0.1214, -0.1550, -0.0239, -0.1863, -0.1289,  0.1869,  0.1455, -0.0934,\n",
       "          -0.0551,  0.0348, -0.1222, -0.0426, -0.1587,  0.1914,  0.1109,  0.1852,\n",
       "          -0.1136, -0.0650, -0.1571,  0.0532, -0.0046,  0.0065, -0.1170, -0.1735,\n",
       "          -0.1010, -0.1023,  0.1757],\n",
       "         [-0.0281, -0.0491,  0.0910,  0.0473, -0.1303, -0.1823, -0.1140, -0.1902,\n",
       "          -0.0226, -0.1344,  0.0677, -0.0965,  0.1575,  0.1086, -0.1521, -0.1189,\n",
       "          -0.1231,  0.0541, -0.0766,  0.0967,  0.0276, -0.1307,  0.1699, -0.1828,\n",
       "           0.1793, -0.0313,  0.1038],\n",
       "         [-0.1015,  0.0856, -0.1131, -0.0208,  0.0527, -0.0207, -0.0753,  0.1263,\n",
       "          -0.0516,  0.0852, -0.1392, -0.1551,  0.0846,  0.1442,  0.0244,  0.1113,\n",
       "          -0.0886, -0.1547,  0.1403,  0.0623, -0.0596,  0.0397, -0.1175, -0.0737,\n",
       "          -0.1077, -0.0936, -0.0662]], requires_grad=True),\n",
       " Parameter containing:\n",
       " tensor([-0.1732,  0.0502, -0.1708], requires_grad=True)]"
      ]
     },
     "execution_count": 180,
     "metadata": {},
     "output_type": "execute_result"
    }
   ],
   "source": [
    "list(a.parameters())"
   ]
  },
  {
   "cell_type": "code",
   "execution_count": 190,
   "id": "73728965",
   "metadata": {},
   "outputs": [],
   "source": [
    "p = list(a.parameters())"
   ]
  },
  {
   "cell_type": "code",
   "execution_count": 191,
   "id": "29e9d177",
   "metadata": {},
   "outputs": [
    {
     "data": {
      "text/plain": [
       "[Parameter containing:\n",
       " tensor([[-0.1201, -0.1539, -0.0229, -0.1853, -0.1279,  0.1879,  0.1465, -0.0924,\n",
       "          -0.0541,  0.0340, -0.1228, -0.0432, -0.1594,  0.1908,  0.1103,  0.1846,\n",
       "          -0.1143, -0.0657, -0.1583,  0.0520, -0.0057,  0.0053, -0.1182, -0.1747,\n",
       "          -0.1022, -0.1034,  0.1746],\n",
       "         [-0.0281, -0.0490,  0.0910,  0.0474, -0.1302, -0.1822, -0.1139, -0.1901,\n",
       "          -0.0225, -0.1335,  0.0686, -0.0956,  0.1584,  0.1095, -0.1512, -0.1180,\n",
       "          -0.1222,  0.0550, -0.0758,  0.0974,  0.0284, -0.1299,  0.1708, -0.1820,\n",
       "           0.1801, -0.0305,  0.1046],\n",
       "         [-0.1027,  0.0845, -0.1142, -0.0219,  0.0515, -0.0218, -0.0764,  0.1251,\n",
       "          -0.0527,  0.0850, -0.1394, -0.1554,  0.0844,  0.1440,  0.0241,  0.1110,\n",
       "          -0.0889, -0.1550,  0.1406,  0.0626, -0.0592,  0.0400, -0.1171, -0.0734,\n",
       "          -0.1074, -0.0933, -0.0658]], requires_grad=True),\n",
       " Parameter containing:\n",
       " tensor([-0.1699,  0.0426, -0.1665], requires_grad=True)]"
      ]
     },
     "execution_count": 191,
     "metadata": {},
     "output_type": "execute_result"
    }
   ],
   "source": [
    "list(list(tdnn.modules())[-1].parameters())"
   ]
  },
  {
   "cell_type": "code",
   "execution_count": 192,
   "id": "b47304cf",
   "metadata": {},
   "outputs": [
    {
     "data": {
      "text/plain": [
       "[Parameter containing:\n",
       " tensor([[-0.1201, -0.1539, -0.0229, -0.1853, -0.1279,  0.1879,  0.1465, -0.0924,\n",
       "          -0.0541,  0.0340, -0.1228, -0.0432, -0.1594,  0.1908,  0.1103,  0.1846,\n",
       "          -0.1143, -0.0657, -0.1583,  0.0520, -0.0057,  0.0053, -0.1182, -0.1747,\n",
       "          -0.1022, -0.1034,  0.1746],\n",
       "         [-0.0281, -0.0490,  0.0910,  0.0474, -0.1302, -0.1822, -0.1139, -0.1901,\n",
       "          -0.0225, -0.1335,  0.0686, -0.0956,  0.1584,  0.1095, -0.1512, -0.1180,\n",
       "          -0.1222,  0.0550, -0.0758,  0.0974,  0.0284, -0.1299,  0.1708, -0.1820,\n",
       "           0.1801, -0.0305,  0.1046],\n",
       "         [-0.1027,  0.0845, -0.1142, -0.0219,  0.0515, -0.0218, -0.0764,  0.1251,\n",
       "          -0.0527,  0.0850, -0.1394, -0.1554,  0.0844,  0.1440,  0.0241,  0.1110,\n",
       "          -0.0889, -0.1550,  0.1406,  0.0626, -0.0592,  0.0400, -0.1171, -0.0734,\n",
       "          -0.1074, -0.0933, -0.0658]], requires_grad=True),\n",
       " Parameter containing:\n",
       " tensor([-0.1699,  0.0426, -0.1665], requires_grad=True)]"
      ]
     },
     "execution_count": 192,
     "metadata": {},
     "output_type": "execute_result"
    }
   ],
   "source": [
    "p"
   ]
  },
  {
   "cell_type": "code",
   "execution_count": null,
   "id": "3cfa5ec0",
   "metadata": {},
   "outputs": [],
   "source": []
  },
  {
   "cell_type": "code",
   "execution_count": null,
   "id": "c85bc5f7",
   "metadata": {},
   "outputs": [],
   "source": []
  },
  {
   "cell_type": "code",
   "execution_count": null,
   "id": "a12adc92",
   "metadata": {},
   "outputs": [],
   "source": []
  },
  {
   "cell_type": "code",
   "execution_count": 208,
   "id": "8a7c23e3",
   "metadata": {},
   "outputs": [],
   "source": [
    "\n"
   ]
  },
  {
   "cell_type": "code",
   "execution_count": null,
   "id": "0950ac1b",
   "metadata": {},
   "outputs": [],
   "source": []
  }
 ],
 "metadata": {
  "kernelspec": {
   "display_name": "Python 3",
   "language": "python",
   "name": "python3"
  },
  "language_info": {
   "codemirror_mode": {
    "name": "ipython",
    "version": 3
   },
   "file_extension": ".py",
   "mimetype": "text/x-python",
   "name": "python",
   "nbconvert_exporter": "python",
   "pygments_lexer": "ipython3",
   "version": "3.10.7"
  }
 },
 "nbformat": 4,
 "nbformat_minor": 5
}
